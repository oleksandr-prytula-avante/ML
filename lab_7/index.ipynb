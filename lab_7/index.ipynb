{
 "cells": [
  {
   "cell_type": "code",
   "execution_count": 279,
   "id": "622f66c8",
   "metadata": {},
   "outputs": [],
   "source": [
    "import tensorflow as tf\n",
    "\n",
    "from keras.models import Sequential\n",
    "from keras.layers import Dense, Dropout, Normalization\n",
    "from keras.callbacks import EarlyStopping, TensorBoard\n",
    "\n",
    "from sklearn.model_selection import train_test_split\n",
    "from sklearn.preprocessing import normalize\n",
    "\n",
    "import pandas as pd\n",
    "import numpy as np\n",
    "import os\n"
   ]
  },
  {
   "cell_type": "code",
   "execution_count": 280,
   "id": "47c6307f",
   "metadata": {},
   "outputs": [
    {
     "data": {
      "text/html": [
       "<div>\n",
       "<style scoped>\n",
       "    .dataframe tbody tr th:only-of-type {\n",
       "        vertical-align: middle;\n",
       "    }\n",
       "\n",
       "    .dataframe tbody tr th {\n",
       "        vertical-align: top;\n",
       "    }\n",
       "\n",
       "    .dataframe thead th {\n",
       "        text-align: right;\n",
       "    }\n",
       "</style>\n",
       "<table border=\"1\" class=\"dataframe\">\n",
       "  <thead>\n",
       "    <tr style=\"text-align: right;\">\n",
       "      <th></th>\n",
       "      <th>Fixed acidity</th>\n",
       "      <th>Volatile acidity</th>\n",
       "      <th>Citric acid</th>\n",
       "      <th>Residual sugar</th>\n",
       "      <th>Chlorides</th>\n",
       "      <th>Free sulfur dioxide</th>\n",
       "      <th>Total sulfur dioxide</th>\n",
       "      <th>Density</th>\n",
       "      <th>pH</th>\n",
       "      <th>Sulphates</th>\n",
       "      <th>Alcohol</th>\n",
       "      <th>Quality</th>\n",
       "    </tr>\n",
       "  </thead>\n",
       "  <tbody>\n",
       "    <tr>\n",
       "      <th>0</th>\n",
       "      <td>7.4</td>\n",
       "      <td>0.70</td>\n",
       "      <td>0.00</td>\n",
       "      <td>1.9</td>\n",
       "      <td>0.076</td>\n",
       "      <td>11.0</td>\n",
       "      <td>34.0</td>\n",
       "      <td>0.9978</td>\n",
       "      <td>3.51</td>\n",
       "      <td>0.56</td>\n",
       "      <td>9.4</td>\n",
       "      <td>5</td>\n",
       "    </tr>\n",
       "    <tr>\n",
       "      <th>1</th>\n",
       "      <td>7.8</td>\n",
       "      <td>0.88</td>\n",
       "      <td>0.00</td>\n",
       "      <td>2.6</td>\n",
       "      <td>0.098</td>\n",
       "      <td>25.0</td>\n",
       "      <td>67.0</td>\n",
       "      <td>0.9968</td>\n",
       "      <td>3.20</td>\n",
       "      <td>0.68</td>\n",
       "      <td>9.8</td>\n",
       "      <td>5</td>\n",
       "    </tr>\n",
       "    <tr>\n",
       "      <th>2</th>\n",
       "      <td>7.8</td>\n",
       "      <td>0.76</td>\n",
       "      <td>0.04</td>\n",
       "      <td>2.3</td>\n",
       "      <td>0.092</td>\n",
       "      <td>15.0</td>\n",
       "      <td>54.0</td>\n",
       "      <td>0.9970</td>\n",
       "      <td>3.26</td>\n",
       "      <td>0.65</td>\n",
       "      <td>9.8</td>\n",
       "      <td>5</td>\n",
       "    </tr>\n",
       "    <tr>\n",
       "      <th>3</th>\n",
       "      <td>11.2</td>\n",
       "      <td>0.28</td>\n",
       "      <td>0.56</td>\n",
       "      <td>1.9</td>\n",
       "      <td>0.075</td>\n",
       "      <td>17.0</td>\n",
       "      <td>60.0</td>\n",
       "      <td>0.9980</td>\n",
       "      <td>3.16</td>\n",
       "      <td>0.58</td>\n",
       "      <td>9.8</td>\n",
       "      <td>6</td>\n",
       "    </tr>\n",
       "    <tr>\n",
       "      <th>4</th>\n",
       "      <td>7.4</td>\n",
       "      <td>0.70</td>\n",
       "      <td>0.00</td>\n",
       "      <td>1.9</td>\n",
       "      <td>0.076</td>\n",
       "      <td>11.0</td>\n",
       "      <td>34.0</td>\n",
       "      <td>0.9978</td>\n",
       "      <td>3.51</td>\n",
       "      <td>0.56</td>\n",
       "      <td>9.4</td>\n",
       "      <td>5</td>\n",
       "    </tr>\n",
       "  </tbody>\n",
       "</table>\n",
       "</div>"
      ],
      "text/plain": [
       "   Fixed acidity  Volatile acidity  Citric acid  Residual sugar  Chlorides  \\\n",
       "0            7.4              0.70         0.00             1.9      0.076   \n",
       "1            7.8              0.88         0.00             2.6      0.098   \n",
       "2            7.8              0.76         0.04             2.3      0.092   \n",
       "3           11.2              0.28         0.56             1.9      0.075   \n",
       "4            7.4              0.70         0.00             1.9      0.076   \n",
       "\n",
       "   Free sulfur dioxide  Total sulfur dioxide  Density    pH  Sulphates  \\\n",
       "0                 11.0                  34.0   0.9978  3.51       0.56   \n",
       "1                 25.0                  67.0   0.9968  3.20       0.68   \n",
       "2                 15.0                  54.0   0.9970  3.26       0.65   \n",
       "3                 17.0                  60.0   0.9980  3.16       0.58   \n",
       "4                 11.0                  34.0   0.9978  3.51       0.56   \n",
       "\n",
       "   Alcohol  Quality  \n",
       "0      9.4        5  \n",
       "1      9.8        5  \n",
       "2      9.8        5  \n",
       "3      9.8        6  \n",
       "4      9.4        5  "
      ]
     },
     "execution_count": 280,
     "metadata": {},
     "output_type": "execute_result"
    }
   ],
   "source": [
    "winequality_red = pd.read_csv(\n",
    "      \"data/winequality-red.csv\", \n",
    "      names=[\n",
    "            \"Fixed acidity\",\n",
    "            \"Volatile acidity\",\n",
    "            \"Citric acid\",\n",
    "            \"Residual sugar\",\n",
    "            \"Chlorides\",\n",
    "            \"Free sulfur dioxide\",\n",
    "            \"Total sulfur dioxide\",\n",
    "            \"Density\",\n",
    "            \"pH\",\n",
    "            \"Sulphates\",\n",
    "            \"Alcohol\",\n",
    "            \"Quality\",\n",
    "      ]\n",
    ")\n",
    "\n",
    "winequality_red.head()"
   ]
  },
  {
   "cell_type": "code",
   "execution_count": 281,
   "id": "1cb558b5",
   "metadata": {},
   "outputs": [
    {
     "name": "stdout",
     "output_type": "stream",
     "text": [
      "<class 'pandas.core.frame.DataFrame'>\n",
      "RangeIndex: 1599 entries, 0 to 1598\n",
      "Data columns (total 12 columns):\n",
      " #   Column                Non-Null Count  Dtype  \n",
      "---  ------                --------------  -----  \n",
      " 0   Fixed acidity         1599 non-null   float64\n",
      " 1   Volatile acidity      1599 non-null   float64\n",
      " 2   Citric acid           1599 non-null   float64\n",
      " 3   Residual sugar        1599 non-null   float64\n",
      " 4   Chlorides             1599 non-null   float64\n",
      " 5   Free sulfur dioxide   1599 non-null   float64\n",
      " 6   Total sulfur dioxide  1599 non-null   float64\n",
      " 7   Density               1599 non-null   float64\n",
      " 8   pH                    1599 non-null   float64\n",
      " 9   Sulphates             1599 non-null   float64\n",
      " 10  Alcohol               1599 non-null   float64\n",
      " 11  Quality               1599 non-null   int64  \n",
      "dtypes: float64(11), int64(1)\n",
      "memory usage: 150.0 KB\n"
     ]
    }
   ],
   "source": [
    "winequality_red.info()"
   ]
  },
  {
   "cell_type": "code",
   "execution_count": 282,
   "id": "7f5b7ca1",
   "metadata": {},
   "outputs": [
    {
     "data": {
      "text/plain": [
       "Quality\n",
       "5    681\n",
       "6    638\n",
       "7    199\n",
       "4     53\n",
       "8     18\n",
       "3     10\n",
       "Name: count, dtype: int64"
      ]
     },
     "execution_count": 282,
     "metadata": {},
     "output_type": "execute_result"
    }
   ],
   "source": [
    "winequality_red[\"Quality\"].value_counts()"
   ]
  },
  {
   "cell_type": "code",
   "execution_count": 284,
   "id": "ca0df85a",
   "metadata": {},
   "outputs": [],
   "source": [
    "winequality_red_quality_conditions = [\n",
    "    (winequality_red['Quality'] < 6),\n",
    "    (winequality_red['Quality'] > 6),\n",
    "    (winequality_red['Quality'] == 6),\n",
    "]\n",
    "\n",
    "winequality_red_quality_values = [0, 1, 2] # ['Bad', 'Great', 'Good']\n",
    "\n",
    "winequality_red[\"Quality\"] = np.select(winequality_red_quality_conditions, winequality_red_quality_values)\n"
   ]
  },
  {
   "cell_type": "code",
   "execution_count": 285,
   "id": "1f477d14",
   "metadata": {},
   "outputs": [
    {
     "data": {
      "text/plain": [
       "(array([[ 7.4  ,  0.7  ,  0.   , ...,  3.51 ,  0.56 ,  9.4  ],\n",
       "        [ 7.8  ,  0.88 ,  0.   , ...,  3.2  ,  0.68 ,  9.8  ],\n",
       "        [ 7.8  ,  0.76 ,  0.04 , ...,  3.26 ,  0.65 ,  9.8  ],\n",
       "        ...,\n",
       "        [ 6.3  ,  0.51 ,  0.13 , ...,  3.42 ,  0.75 , 11.   ],\n",
       "        [ 5.9  ,  0.645,  0.12 , ...,  3.57 ,  0.71 , 10.2  ],\n",
       "        [ 6.   ,  0.31 ,  0.47 , ...,  3.39 ,  0.66 , 11.   ]]),\n",
       " (1599, 11))"
      ]
     },
     "execution_count": 285,
     "metadata": {},
     "output_type": "execute_result"
    }
   ],
   "source": [
    "winequality_red_array_features = np.array(winequality_red.drop('Quality', axis=1))\n",
    "\n",
    "winequality_red_array_features, winequality_red_array_features.shape"
   ]
  },
  {
   "cell_type": "code",
   "execution_count": 286,
   "id": "a749b156",
   "metadata": {},
   "outputs": [
    {
     "data": {
      "text/plain": [
       "(array([0, 0, 0, ..., 2, 0, 2]), (1599,))"
      ]
     },
     "execution_count": 286,
     "metadata": {},
     "output_type": "execute_result"
    }
   ],
   "source": [
    "winequality_red_array_target = np.array(winequality_red['Quality'])\n",
    "\n",
    "winequality_red_array_target, winequality_red_array_target.shape"
   ]
  },
  {
   "cell_type": "code",
   "execution_count": 287,
   "id": "ce8ad34c",
   "metadata": {},
   "outputs": [
    {
     "data": {
      "text/plain": [
       "((1279, 11), (320, 11), (1279,), (320,))"
      ]
     },
     "execution_count": 287,
     "metadata": {},
     "output_type": "execute_result"
    }
   ],
   "source": [
    "winequality_red_array_target_train, winequality_red_array_target_test, winequality_red_array_features_train, winequality_red_array_features_test = train_test_split(winequality_red_array_features, winequality_red_array_target, test_size=0.2)\n",
    "\n",
    "winequality_red_array_target_train.shape,winequality_red_array_target_test.shape, winequality_red_array_features_train.shape, winequality_red_array_features_test.shape"
   ]
  },
  {
   "cell_type": "code",
   "execution_count": 288,
   "id": "3364592b",
   "metadata": {},
   "outputs": [
    {
     "data": {
      "text/plain": [
       "array([2, 0, 0, 0, 2, 0, 0, 0, 0, 2, 2, 2, 0, 0, 0, 0, 2, 1, 0, 0, 0, 2,\n",
       "       0, 2, 0, 2, 2, 0, 2, 2, 2, 2, 0, 2, 2, 1, 2, 0, 2, 2, 2, 0, 0, 0,\n",
       "       0, 0, 0, 0, 2, 2, 2, 0, 0, 0, 1, 0, 2, 0, 0, 2, 2, 2, 0, 2, 0, 2,\n",
       "       2, 0, 2, 2, 2, 2, 2, 0, 1, 0, 0, 2, 0, 1, 2, 2, 0, 2, 0, 2, 2, 0,\n",
       "       1, 2, 0, 0, 2, 0, 0, 0, 2, 0, 0, 0, 1, 2, 0, 2, 2, 2, 0, 0, 0, 0,\n",
       "       2, 2, 0, 0, 0, 1, 2, 2, 2, 0, 0, 2, 2, 2, 1, 1, 0, 0, 2, 2, 2, 2,\n",
       "       1, 2, 2, 2, 1, 1, 1, 0, 0, 2, 2, 2, 0, 2, 1, 2, 0, 2, 0, 0, 0, 0,\n",
       "       1, 0, 0, 2, 2, 2, 0, 2, 0, 0, 1, 0, 2, 0, 1, 2, 2, 2, 0, 0, 0, 0,\n",
       "       0, 0, 1, 0, 2, 2, 2, 2, 0, 0, 2, 1, 0, 0, 1, 0, 1, 2, 2, 2, 0, 2,\n",
       "       0, 0, 0, 2, 2, 0, 0, 0, 0, 1, 1, 0, 0, 1, 2, 1, 2, 0, 2, 0, 0, 0,\n",
       "       2, 0, 0, 1, 2, 0, 2, 2, 0, 2, 0, 0, 1, 2, 1, 0, 2, 0, 2, 0, 0, 0,\n",
       "       0, 0, 2, 1, 0, 0, 2, 2, 2, 0, 2, 2, 1, 1, 2, 2, 0, 2, 2, 2, 2, 2,\n",
       "       0, 1, 0, 2, 2, 0, 1, 2, 0, 2, 1, 2, 0, 0, 2, 0, 0, 0, 0, 0, 0, 1,\n",
       "       2, 2, 0, 2, 2, 0, 0, 2, 2, 2, 0, 0, 1, 2, 2, 0, 2, 2, 0, 2, 0, 1,\n",
       "       2, 0, 0, 0, 0, 0, 2, 2, 0, 0, 1, 2])"
      ]
     },
     "execution_count": 288,
     "metadata": {},
     "output_type": "execute_result"
    }
   ],
   "source": [
    "winequality_red_array_features_test"
   ]
  },
  {
   "cell_type": "code",
   "execution_count": null,
   "id": "4daba5c1",
   "metadata": {},
   "outputs": [],
   "source": []
  }
 ],
 "metadata": {
  "kernelspec": {
   "display_name": "nn",
   "language": "python",
   "name": "python3"
  },
  "language_info": {
   "codemirror_mode": {
    "name": "ipython",
    "version": 3
   },
   "file_extension": ".py",
   "mimetype": "text/x-python",
   "name": "python",
   "nbconvert_exporter": "python",
   "pygments_lexer": "ipython3",
   "version": "3.12.9"
  }
 },
 "nbformat": 4,
 "nbformat_minor": 5
}
