{
 "cells": [
  {
   "cell_type": "code",
   "execution_count": null,
   "id": "622f66c8",
   "metadata": {},
   "outputs": [],
   "source": [
    "import tensorflow as tf\n",
    "\n",
    "from keras.models import Sequential\n",
    "from keras.layers import Dense, Dropout, Normalization\n",
    "from keras.callbacks import EarlyStopping, TensorBoard\n",
    "\n",
    "from sklearn.model_selection import train_test_split\n",
    "\n",
    "import pandas as pd\n",
    "import numpy as np\n",
    "import os\n"
   ]
  },
  {
   "cell_type": "code",
   "execution_count": 6,
   "id": "47c6307f",
   "metadata": {},
   "outputs": [
    {
     "data": {
      "text/html": [
       "<div>\n",
       "<style scoped>\n",
       "    .dataframe tbody tr th:only-of-type {\n",
       "        vertical-align: middle;\n",
       "    }\n",
       "\n",
       "    .dataframe tbody tr th {\n",
       "        vertical-align: top;\n",
       "    }\n",
       "\n",
       "    .dataframe thead th {\n",
       "        text-align: right;\n",
       "    }\n",
       "</style>\n",
       "<table border=\"1\" class=\"dataframe\">\n",
       "  <thead>\n",
       "    <tr style=\"text-align: right;\">\n",
       "      <th></th>\n",
       "      <th>Fixed acidity</th>\n",
       "      <th>Volatile acidity</th>\n",
       "      <th>Citric acid</th>\n",
       "      <th>Residual sugar</th>\n",
       "      <th>Chlorides</th>\n",
       "      <th>Free sulfur dioxide</th>\n",
       "      <th>Total sulfur dioxide</th>\n",
       "      <th>Density</th>\n",
       "      <th>pH</th>\n",
       "      <th>Sulphates</th>\n",
       "      <th>Alcohol</th>\n",
       "      <th>Quality</th>\n",
       "    </tr>\n",
       "  </thead>\n",
       "  <tbody>\n",
       "    <tr>\n",
       "      <th>0</th>\n",
       "      <td>7.4</td>\n",
       "      <td>0.700</td>\n",
       "      <td>0.00</td>\n",
       "      <td>1.9</td>\n",
       "      <td>0.076</td>\n",
       "      <td>11.0</td>\n",
       "      <td>34.0</td>\n",
       "      <td>0.99780</td>\n",
       "      <td>3.51</td>\n",
       "      <td>0.56</td>\n",
       "      <td>9.4</td>\n",
       "      <td>5</td>\n",
       "    </tr>\n",
       "    <tr>\n",
       "      <th>1</th>\n",
       "      <td>7.8</td>\n",
       "      <td>0.880</td>\n",
       "      <td>0.00</td>\n",
       "      <td>2.6</td>\n",
       "      <td>0.098</td>\n",
       "      <td>25.0</td>\n",
       "      <td>67.0</td>\n",
       "      <td>0.99680</td>\n",
       "      <td>3.20</td>\n",
       "      <td>0.68</td>\n",
       "      <td>9.8</td>\n",
       "      <td>5</td>\n",
       "    </tr>\n",
       "    <tr>\n",
       "      <th>2</th>\n",
       "      <td>7.8</td>\n",
       "      <td>0.760</td>\n",
       "      <td>0.04</td>\n",
       "      <td>2.3</td>\n",
       "      <td>0.092</td>\n",
       "      <td>15.0</td>\n",
       "      <td>54.0</td>\n",
       "      <td>0.99700</td>\n",
       "      <td>3.26</td>\n",
       "      <td>0.65</td>\n",
       "      <td>9.8</td>\n",
       "      <td>5</td>\n",
       "    </tr>\n",
       "    <tr>\n",
       "      <th>3</th>\n",
       "      <td>11.2</td>\n",
       "      <td>0.280</td>\n",
       "      <td>0.56</td>\n",
       "      <td>1.9</td>\n",
       "      <td>0.075</td>\n",
       "      <td>17.0</td>\n",
       "      <td>60.0</td>\n",
       "      <td>0.99800</td>\n",
       "      <td>3.16</td>\n",
       "      <td>0.58</td>\n",
       "      <td>9.8</td>\n",
       "      <td>6</td>\n",
       "    </tr>\n",
       "    <tr>\n",
       "      <th>4</th>\n",
       "      <td>7.4</td>\n",
       "      <td>0.700</td>\n",
       "      <td>0.00</td>\n",
       "      <td>1.9</td>\n",
       "      <td>0.076</td>\n",
       "      <td>11.0</td>\n",
       "      <td>34.0</td>\n",
       "      <td>0.99780</td>\n",
       "      <td>3.51</td>\n",
       "      <td>0.56</td>\n",
       "      <td>9.4</td>\n",
       "      <td>5</td>\n",
       "    </tr>\n",
       "    <tr>\n",
       "      <th>...</th>\n",
       "      <td>...</td>\n",
       "      <td>...</td>\n",
       "      <td>...</td>\n",
       "      <td>...</td>\n",
       "      <td>...</td>\n",
       "      <td>...</td>\n",
       "      <td>...</td>\n",
       "      <td>...</td>\n",
       "      <td>...</td>\n",
       "      <td>...</td>\n",
       "      <td>...</td>\n",
       "      <td>...</td>\n",
       "    </tr>\n",
       "    <tr>\n",
       "      <th>1594</th>\n",
       "      <td>6.2</td>\n",
       "      <td>0.600</td>\n",
       "      <td>0.08</td>\n",
       "      <td>2.0</td>\n",
       "      <td>0.090</td>\n",
       "      <td>32.0</td>\n",
       "      <td>44.0</td>\n",
       "      <td>0.99490</td>\n",
       "      <td>3.45</td>\n",
       "      <td>0.58</td>\n",
       "      <td>10.5</td>\n",
       "      <td>5</td>\n",
       "    </tr>\n",
       "    <tr>\n",
       "      <th>1595</th>\n",
       "      <td>5.9</td>\n",
       "      <td>0.550</td>\n",
       "      <td>0.10</td>\n",
       "      <td>2.2</td>\n",
       "      <td>0.062</td>\n",
       "      <td>39.0</td>\n",
       "      <td>51.0</td>\n",
       "      <td>0.99512</td>\n",
       "      <td>3.52</td>\n",
       "      <td>0.76</td>\n",
       "      <td>11.2</td>\n",
       "      <td>6</td>\n",
       "    </tr>\n",
       "    <tr>\n",
       "      <th>1596</th>\n",
       "      <td>6.3</td>\n",
       "      <td>0.510</td>\n",
       "      <td>0.13</td>\n",
       "      <td>2.3</td>\n",
       "      <td>0.076</td>\n",
       "      <td>29.0</td>\n",
       "      <td>40.0</td>\n",
       "      <td>0.99574</td>\n",
       "      <td>3.42</td>\n",
       "      <td>0.75</td>\n",
       "      <td>11.0</td>\n",
       "      <td>6</td>\n",
       "    </tr>\n",
       "    <tr>\n",
       "      <th>1597</th>\n",
       "      <td>5.9</td>\n",
       "      <td>0.645</td>\n",
       "      <td>0.12</td>\n",
       "      <td>2.0</td>\n",
       "      <td>0.075</td>\n",
       "      <td>32.0</td>\n",
       "      <td>44.0</td>\n",
       "      <td>0.99547</td>\n",
       "      <td>3.57</td>\n",
       "      <td>0.71</td>\n",
       "      <td>10.2</td>\n",
       "      <td>5</td>\n",
       "    </tr>\n",
       "    <tr>\n",
       "      <th>1598</th>\n",
       "      <td>6.0</td>\n",
       "      <td>0.310</td>\n",
       "      <td>0.47</td>\n",
       "      <td>3.6</td>\n",
       "      <td>0.067</td>\n",
       "      <td>18.0</td>\n",
       "      <td>42.0</td>\n",
       "      <td>0.99549</td>\n",
       "      <td>3.39</td>\n",
       "      <td>0.66</td>\n",
       "      <td>11.0</td>\n",
       "      <td>6</td>\n",
       "    </tr>\n",
       "  </tbody>\n",
       "</table>\n",
       "<p>1599 rows × 12 columns</p>\n",
       "</div>"
      ],
      "text/plain": [
       "      Fixed acidity  Volatile acidity  Citric acid  Residual sugar  Chlorides  \\\n",
       "0               7.4             0.700         0.00             1.9      0.076   \n",
       "1               7.8             0.880         0.00             2.6      0.098   \n",
       "2               7.8             0.760         0.04             2.3      0.092   \n",
       "3              11.2             0.280         0.56             1.9      0.075   \n",
       "4               7.4             0.700         0.00             1.9      0.076   \n",
       "...             ...               ...          ...             ...        ...   \n",
       "1594            6.2             0.600         0.08             2.0      0.090   \n",
       "1595            5.9             0.550         0.10             2.2      0.062   \n",
       "1596            6.3             0.510         0.13             2.3      0.076   \n",
       "1597            5.9             0.645         0.12             2.0      0.075   \n",
       "1598            6.0             0.310         0.47             3.6      0.067   \n",
       "\n",
       "      Free sulfur dioxide  Total sulfur dioxide  Density    pH  Sulphates  \\\n",
       "0                    11.0                  34.0  0.99780  3.51       0.56   \n",
       "1                    25.0                  67.0  0.99680  3.20       0.68   \n",
       "2                    15.0                  54.0  0.99700  3.26       0.65   \n",
       "3                    17.0                  60.0  0.99800  3.16       0.58   \n",
       "4                    11.0                  34.0  0.99780  3.51       0.56   \n",
       "...                   ...                   ...      ...   ...        ...   \n",
       "1594                 32.0                  44.0  0.99490  3.45       0.58   \n",
       "1595                 39.0                  51.0  0.99512  3.52       0.76   \n",
       "1596                 29.0                  40.0  0.99574  3.42       0.75   \n",
       "1597                 32.0                  44.0  0.99547  3.57       0.71   \n",
       "1598                 18.0                  42.0  0.99549  3.39       0.66   \n",
       "\n",
       "      Alcohol  Quality  \n",
       "0         9.4        5  \n",
       "1         9.8        5  \n",
       "2         9.8        5  \n",
       "3         9.8        6  \n",
       "4         9.4        5  \n",
       "...       ...      ...  \n",
       "1594     10.5        5  \n",
       "1595     11.2        6  \n",
       "1596     11.0        6  \n",
       "1597     10.2        5  \n",
       "1598     11.0        6  \n",
       "\n",
       "[1599 rows x 12 columns]"
      ]
     },
     "execution_count": 6,
     "metadata": {},
     "output_type": "execute_result"
    }
   ],
   "source": [
    "winequality_red = pd.read_csv(\n",
    "      \"data/winequality-red.csv\", \n",
    "      names=[\n",
    "            \"Fixed acidity\",\n",
    "            \"Volatile acidity\",\n",
    "            \"Citric acid\",\n",
    "            \"Residual sugar\",\n",
    "            \"Chlorides\",\n",
    "            \"Free sulfur dioxide\",\n",
    "            \"Total sulfur dioxide\",\n",
    "            \"Density\",\n",
    "            \"pH\",\n",
    "            \"Sulphates\",\n",
    "            \"Alcohol\",\n",
    "            \"Quality\",\n",
    "      ]\n",
    ")\n",
    "\n",
    "winequality_red"
   ]
  },
  {
   "cell_type": "code",
   "execution_count": 7,
   "id": "1cb558b5",
   "metadata": {},
   "outputs": [
    {
     "name": "stdout",
     "output_type": "stream",
     "text": [
      "<class 'pandas.core.frame.DataFrame'>\n",
      "RangeIndex: 1599 entries, 0 to 1598\n",
      "Data columns (total 12 columns):\n",
      " #   Column                Non-Null Count  Dtype  \n",
      "---  ------                --------------  -----  \n",
      " 0   Fixed acidity         1599 non-null   float64\n",
      " 1   Volatile acidity      1599 non-null   float64\n",
      " 2   Citric acid           1599 non-null   float64\n",
      " 3   Residual sugar        1599 non-null   float64\n",
      " 4   Chlorides             1599 non-null   float64\n",
      " 5   Free sulfur dioxide   1599 non-null   float64\n",
      " 6   Total sulfur dioxide  1599 non-null   float64\n",
      " 7   Density               1599 non-null   float64\n",
      " 8   pH                    1599 non-null   float64\n",
      " 9   Sulphates             1599 non-null   float64\n",
      " 10  Alcohol               1599 non-null   float64\n",
      " 11  Quality               1599 non-null   int64  \n",
      "dtypes: float64(11), int64(1)\n",
      "memory usage: 150.0 KB\n"
     ]
    }
   ],
   "source": [
    "winequality_red.info()"
   ]
  },
  {
   "cell_type": "code",
   "execution_count": 8,
   "id": "7f5b7ca1",
   "metadata": {},
   "outputs": [
    {
     "data": {
      "text/plain": [
       "Quality\n",
       "5    681\n",
       "6    638\n",
       "7    199\n",
       "4     53\n",
       "8     18\n",
       "3     10\n",
       "Name: count, dtype: int64"
      ]
     },
     "execution_count": 8,
     "metadata": {},
     "output_type": "execute_result"
    }
   ],
   "source": [
    "winequality_red[\"Quality\"].value_counts()"
   ]
  },
  {
   "cell_type": "code",
   "execution_count": 9,
   "id": "ca0df85a",
   "metadata": {},
   "outputs": [],
   "source": [
    "winequality_red_quality_conditions = [\n",
    "    (winequality_red['Quality'] < 6),\n",
    "    (winequality_red['Quality'] == 6),\n",
    "    (winequality_red['Quality'] > 6),\n",
    "]\n",
    "\n",
    "winequality_red_quality_values = [0, 1, 2] # ['Bad', 'Great', 'Good']\n",
    "\n",
    "winequality_red[\"Quality\"] = np.select(winequality_red_quality_conditions, winequality_red_quality_values)\n"
   ]
  },
  {
   "cell_type": "code",
   "execution_count": 13,
   "id": "0ff61522",
   "metadata": {},
   "outputs": [
    {
     "data": {
      "text/plain": [
       "Quality\n",
       "0    744\n",
       "1    638\n",
       "2    217\n",
       "Name: count, dtype: int64"
      ]
     },
     "execution_count": 13,
     "metadata": {},
     "output_type": "execute_result"
    }
   ],
   "source": [
    "winequality_red[\"Quality\"].value_counts()"
   ]
  },
  {
   "cell_type": "code",
   "execution_count": 10,
   "id": "1f477d14",
   "metadata": {},
   "outputs": [
    {
     "data": {
      "text/plain": [
       "(array([[ 7.4  ,  0.7  ,  0.   , ...,  3.51 ,  0.56 ,  9.4  ],\n",
       "        [ 7.8  ,  0.88 ,  0.   , ...,  3.2  ,  0.68 ,  9.8  ],\n",
       "        [ 7.8  ,  0.76 ,  0.04 , ...,  3.26 ,  0.65 ,  9.8  ],\n",
       "        ...,\n",
       "        [ 6.3  ,  0.51 ,  0.13 , ...,  3.42 ,  0.75 , 11.   ],\n",
       "        [ 5.9  ,  0.645,  0.12 , ...,  3.57 ,  0.71 , 10.2  ],\n",
       "        [ 6.   ,  0.31 ,  0.47 , ...,  3.39 ,  0.66 , 11.   ]]),\n",
       " (1599, 11))"
      ]
     },
     "execution_count": 10,
     "metadata": {},
     "output_type": "execute_result"
    }
   ],
   "source": [
    "winequality_red_array_features = np.array(winequality_red.drop('Quality', axis=1))\n",
    "\n",
    "winequality_red_array_features, winequality_red_array_features.shape"
   ]
  },
  {
   "cell_type": "code",
   "execution_count": 16,
   "id": "a749b156",
   "metadata": {},
   "outputs": [
    {
     "data": {
      "text/plain": [
       "(array([0, 0, 0, ..., 1, 0, 1]), (1599,))"
      ]
     },
     "execution_count": 16,
     "metadata": {},
     "output_type": "execute_result"
    }
   ],
   "source": [
    "winequality_red_array_target = np.array(winequality_red['Quality'])\n",
    "\n",
    "winequality_red_array_target, winequality_red_array_target.shape"
   ]
  },
  {
   "cell_type": "code",
   "execution_count": 18,
   "id": "ce8ad34c",
   "metadata": {},
   "outputs": [
    {
     "data": {
      "text/plain": [
       "((1279, 11), (320, 11), (1279,), (320,))"
      ]
     },
     "execution_count": 18,
     "metadata": {},
     "output_type": "execute_result"
    }
   ],
   "source": [
    "winequality_red_array_features_train, winequality_red_array_features_test, winequality_red_array_target_train, winequality_red_array_target_test = train_test_split(winequality_red_array_features, winequality_red_array_target, test_size=0.2)\n",
    "\n",
    "winequality_red_array_features_train.shape, winequality_red_array_features_test.shape, winequality_red_array_target_train.shape, winequality_red_array_target_test.shape"
   ]
  },
  {
   "cell_type": "code",
   "execution_count": 23,
   "id": "4daba5c1",
   "metadata": {},
   "outputs": [
    {
     "data": {
      "text/plain": [
       "<tf.Tensor: shape=(10, 11), dtype=float32, numpy=\n",
       "array([[-0.77404505, -0.545863  ,  0.44607934, -0.6491378 ,  0.03100955,\n",
       "        -0.18068899, -0.29179052, -0.33352524,  0.19939546, -0.56976354,\n",
       "        -1.1413474 ],\n",
       "       [ 0.42818028, -0.71314   ,  1.5358776 ,  1.3828769 , -0.15865558,\n",
       "        -0.9483077 , -0.7989369 , -0.13494575, -0.1858418 , -0.51159567,\n",
       "         1.987844  ],\n",
       "       [ 2.3746397 , -0.88041705,  1.4320874 ,  0.02820036, -0.09543393,\n",
       "         0.87478673,  0.63300586,  1.4645677 , -1.0205225 ,  0.9426019 ,\n",
       "        -0.0034599 ],\n",
       "       [-1.2892845 , -1.1592121 , -0.12476748, -0.17500108, -0.34832057,\n",
       "         0.6828821 ,  0.33468446, -0.23690689,  0.71304667,  1.8151207 ,\n",
       "         0.18618879],\n",
       "       [ 2.0311465 , -0.8246581 ,  1.1207165 ,  0.09593428,  0.22067453,\n",
       "        -0.37259367, -0.1426298 ,  1.9476274 , -0.9563163 , -0.27892393,\n",
       "        -0.09828334],\n",
       "       [ 1.2296635 , -0.76889914,  0.9650309 , -0.24273485, -0.26402497,\n",
       "        -0.18068899, -0.5901119 , -0.42476878, -1.59838   ,  1.0589377 ,\n",
       "         0.9447799 ],\n",
       "       [-1.1175379 ,  1.991172  , -1.4221464 , -0.17500108,  1.6536994 ,\n",
       "        -0.9483077 , -1.0375941 , -0.67706424,  1.6119336 , -0.86060315,\n",
       "         0.37583655],\n",
       "       [-1.0602891 ,  0.48567876, -1.4221464 , -0.44593638, -0.47476405,\n",
       "        -0.6604507 , -0.85860115,  0.23006043,  0.9698715 , -0.04625254,\n",
       "        -1.1413474 ],\n",
       "       [-0.7167963 ,  1.935413  , -1.1626707 ,  2.1279488 , -0.11650771,\n",
       "        -1.2361647 , -0.9779298 ,  0.70240253,  0.58463424, -0.8024353 ,\n",
       "        -0.19310768],\n",
       "       [ 0.08468716, -0.3785859 ,  0.18660349, -0.20886797, -0.20080331,\n",
       "         1.5464531 ,  0.33468446,  0.6594682 ,  0.13518927, -0.68609923,\n",
       "        -0.57240325]], dtype=float32)>"
      ]
     },
     "execution_count": 23,
     "metadata": {},
     "output_type": "execute_result"
    }
   ],
   "source": [
    "winequality_red_train_normalize_layer = Normalization()\n",
    "\n",
    "winequality_red_train_normalize_layer.adapt(winequality_red_array_features_train)\n",
    "\n",
    "winequality_red_train_normalize_layer(winequality_red_array_features_train[:10])"
   ]
  }
 ],
 "metadata": {
  "kernelspec": {
   "display_name": "nn",
   "language": "python",
   "name": "python3"
  },
  "language_info": {
   "codemirror_mode": {
    "name": "ipython",
    "version": 3
   },
   "file_extension": ".py",
   "mimetype": "text/x-python",
   "name": "python",
   "nbconvert_exporter": "python",
   "pygments_lexer": "ipython3",
   "version": "3.12.9"
  }
 },
 "nbformat": 4,
 "nbformat_minor": 5
}
