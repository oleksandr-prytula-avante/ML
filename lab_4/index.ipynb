{
 "cells": [
  {
   "cell_type": "markdown",
   "id": "e77439a3",
   "metadata": {},
   "source": [
    "# Часові ряди"
   ]
  },
  {
   "cell_type": "markdown",
   "id": "903fcdee",
   "metadata": {},
   "source": [
    "## Мета роботи:\n",
    "Навчитися аналізувати часові ряди, визначати їх компоненти, будувати прогностичні моделі та оцінювати їх точність.\n"
   ]
  },
  {
   "cell_type": "markdown",
   "id": "3739c075",
   "metadata": {},
   "source": [
    "### Вибір фактору для прогнозу:\n",
    "\n",
    "На основі набору даних з першої чи другої лабораторної роботи виберіть один довільний фактор (показник), який потрібно прогнозувати."
   ]
  },
  {
   "cell_type": "code",
   "execution_count": null,
   "id": "885b2eea",
   "metadata": {
    "vscode": {
     "languageId": "plaintext"
    }
   },
   "outputs": [],
   "source": []
  },
  {
   "cell_type": "markdown",
   "id": "d5961649",
   "metadata": {},
   "source": [
    "### Побудова графіка вибраного фактору:\n",
    "\n",
    "Використовуючи бібліотеки Python (наприклад, matplotlib або seaborn), побудуйте графік обраного фактору."
   ]
  },
  {
   "cell_type": "code",
   "execution_count": null,
   "id": "9009dc8e",
   "metadata": {
    "vscode": {
     "languageId": "plaintext"
    }
   },
   "outputs": [],
   "source": []
  },
  {
   "cell_type": "markdown",
   "id": "c426d49c",
   "metadata": {},
   "source": [
    "### Розклад фактору на компоненти:\n",
    "\n",
    "- Виконайте декомпозицію обраного фактору на трендову, сезонну та випадкову компоненти за допомогою бібліотеки statsmodels.\n",
    "- Побудуйте окремі графіки для кожної з компонент."
   ]
  },
  {
   "cell_type": "code",
   "execution_count": null,
   "id": "10fbf818",
   "metadata": {
    "vscode": {
     "languageId": "plaintext"
    }
   },
   "outputs": [],
   "source": []
  },
  {
   "cell_type": "markdown",
   "id": "099e4f75",
   "metadata": {},
   "source": [
    "### Побудова графіків ACF та PACF:\n",
    "\n",
    "- Використовуючи бібліотеку statsmodels, побудуйте графіки автокореляційної функції (ACF) та часткової автокореляційної функції (PACF) для вибраного фактору."
   ]
  },
  {
   "cell_type": "code",
   "execution_count": null,
   "id": "d78c080c",
   "metadata": {
    "vscode": {
     "languageId": "plaintext"
    }
   },
   "outputs": [],
   "source": []
  },
  {
   "cell_type": "markdown",
   "id": "4ca420b9",
   "metadata": {},
   "source": [
    "### Побудова моделей прогнозування:\n",
    "\n",
    "- Побудуйте наступні моделі прогнозування:\n",
    "- Модель Holt’s Winters (Triple Exponential Smoothing)\n",
    "- ARIMA (AutoRegressive Integrated Moving Average)\n",
    "- ARCH (Autoregressive Conditional Heteroskedasticity)\n",
    "- Використовуйте GridSearchCV для підбору оптимальних параметрів моделей."
   ]
  },
  {
   "cell_type": "code",
   "execution_count": null,
   "id": "e3df1094",
   "metadata": {
    "vscode": {
     "languageId": "plaintext"
    }
   },
   "outputs": [],
   "source": []
  },
  {
   "cell_type": "markdown",
   "id": "81ccb716",
   "metadata": {},
   "source": [
    "### Побудова графіків прогнозів:\n",
    "\n",
    "Побудуйте графіки прогнозів для кожної з моделей та порівняйте їх між собою."
   ]
  },
  {
   "cell_type": "code",
   "execution_count": null,
   "id": "de27298e",
   "metadata": {
    "vscode": {
     "languageId": "plaintext"
    }
   },
   "outputs": [],
   "source": []
  },
  {
   "cell_type": "markdown",
   "id": "859eb9cd",
   "metadata": {},
   "source": [
    "### Порівняння точності моделей:\n",
    "\n",
    "- Порівняйте точність побудованих моделей за допомогою відповідних метрик (наприклад, MSE, RMSE, MAE).\n",
    "- Висновок про найбільш точну модель на основі результатів порівняння."
   ]
  },
  {
   "cell_type": "markdown",
   "id": "7af117e5",
   "metadata": {},
   "source": []
  }
 ],
 "metadata": {
  "language_info": {
   "name": "python"
  }
 },
 "nbformat": 4,
 "nbformat_minor": 5
}
