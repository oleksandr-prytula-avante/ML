{
 "cells": [
  {
   "cell_type": "markdown",
   "id": "519c3833",
   "metadata": {},
   "source": [
    "# Вивчення фреймворка Mesa для моделювання агентів"
   ]
  },
  {
   "cell_type": "markdown",
   "id": "631430bc",
   "metadata": {},
   "source": [
    "## Мета роботи\n",
    "Ознайомитися з основними принципами та можливостями фреймворка Mesa для моделювання агентів у Python, створити просту модель та візуалізувати результати, а також запустити та модифікувати один із прикладів з офіційного сайту."
   ]
  },
  {
   "cell_type": "markdown",
   "id": "5437e969",
   "metadata": {},
   "source": [
    "## Створення простого моделювання"
   ]
  },
  {
   "cell_type": "markdown",
   "id": "0f7b6ca9",
   "metadata": {},
   "source": [
    "### Створення середовища та агентів:"
   ]
  },
  {
   "cell_type": "code",
   "execution_count": null,
   "id": "01066c5b",
   "metadata": {
    "vscode": {
     "languageId": "plaintext"
    }
   },
   "outputs": [],
   "source": []
  },
  {
   "cell_type": "markdown",
   "id": "bbfbd1b3",
   "metadata": {},
   "source": [
    "### Створення агента:"
   ]
  },
  {
   "cell_type": "code",
   "execution_count": null,
   "id": "0546fadd",
   "metadata": {
    "vscode": {
     "languageId": "plaintext"
    }
   },
   "outputs": [],
   "source": []
  },
  {
   "cell_type": "markdown",
   "id": "4bae8657",
   "metadata": {},
   "source": [
    "### Створення моделі:\n"
   ]
  },
  {
   "cell_type": "code",
   "execution_count": null,
   "id": "183d9718",
   "metadata": {
    "vscode": {
     "languageId": "plaintext"
    }
   },
   "outputs": [],
   "source": []
  },
  {
   "cell_type": "markdown",
   "id": "e8851800",
   "metadata": {},
   "source": [
    "### Запуск моделі:"
   ]
  },
  {
   "cell_type": "code",
   "execution_count": null,
   "id": "bca83c50",
   "metadata": {
    "vscode": {
     "languageId": "plaintext"
    }
   },
   "outputs": [],
   "source": []
  },
  {
   "cell_type": "markdown",
   "id": "8af0b261",
   "metadata": {},
   "source": [
    "## Візуалізація результатів"
   ]
  },
  {
   "cell_type": "markdown",
   "id": "e12b05a3",
   "metadata": {},
   "source": [
    "### Додавання збору даних:"
   ]
  },
  {
   "cell_type": "code",
   "execution_count": null,
   "id": "20c8b8c5",
   "metadata": {
    "vscode": {
     "languageId": "plaintext"
    }
   },
   "outputs": [],
   "source": []
  },
  {
   "cell_type": "markdown",
   "id": "e675bf61",
   "metadata": {},
   "source": [
    "### Оновлення методу step:"
   ]
  },
  {
   "cell_type": "code",
   "execution_count": null,
   "id": "c07e5e4e",
   "metadata": {
    "vscode": {
     "languageId": "plaintext"
    }
   },
   "outputs": [],
   "source": []
  },
  {
   "cell_type": "markdown",
   "id": "e6ac7b23",
   "metadata": {},
   "source": [
    "### Візуалізація даних:"
   ]
  },
  {
   "cell_type": "code",
   "execution_count": null,
   "id": "a7919e15",
   "metadata": {
    "vscode": {
     "languageId": "plaintext"
    }
   },
   "outputs": [],
   "source": []
  },
  {
   "cell_type": "markdown",
   "id": "0aaa4b3d",
   "metadata": {},
   "source": [
    "## Запуск і модифікація прикладу з офіційного сайту Mesa\n"
   ]
  },
  {
   "cell_type": "markdown",
   "id": "3fb55806",
   "metadata": {},
   "source": [
    "### Завантаження та запуск прикладу:\n",
    "\n",
    "- Відвідайте офіційний сайт Mesa та виберіть один з прикладів.\n",
    "- Завантажте та збережіть код прикладу на свій комп'ютер.\n",
    "- Запустіть приклад у своєму середовищі розробки, щоб переконатися, що він працює."
   ]
  },
  {
   "cell_type": "markdown",
   "id": "24543b94",
   "metadata": {},
   "source": []
  },
  {
   "cell_type": "markdown",
   "id": "fccbe6a5",
   "metadata": {},
   "source": [
    "### Модифікація прикладу:\n",
    "- Виберіть аспект моделі, який ви хочете змінити. Це може бути поведінка агентів, параметри середовища або методи візуалізації.\n",
    "- Внесіть зміни в код та задокументуйте їх.\n",
    "- Перезапустіть модель, щоб перевірити ваші модифікації."
   ]
  },
  {
   "cell_type": "markdown",
   "id": "5410debe",
   "metadata": {},
   "source": []
  },
  {
   "cell_type": "markdown",
   "id": "e5a6fe6c",
   "metadata": {},
   "source": [
    "### Документування змін:\n",
    "- Опишіть, які зміни ви внесли і чому.\n",
    "- Додайте коментарі до коду, щоб пояснити логіку ваших змін."
   ]
  },
  {
   "cell_type": "code",
   "execution_count": null,
   "id": "46c8a784",
   "metadata": {
    "vscode": {
     "languageId": "plaintext"
    }
   },
   "outputs": [],
   "source": []
  },
  {
   "cell_type": "markdown",
   "id": "802d750d",
   "metadata": {},
   "source": [
    "### Питання для самоперевірки:\n",
    "- Які основні компоненти фреймворка Mesa?\n",
    "- Як агенти взаємодіють у створеній моделі?\n",
    "- Які зміни ви внесли до прикладу з офіційного сайту, і як вони вплинули на поведінку моделі?\n"
   ]
  }
 ],
 "metadata": {
  "language_info": {
   "name": "python"
  }
 },
 "nbformat": 4,
 "nbformat_minor": 5
}
